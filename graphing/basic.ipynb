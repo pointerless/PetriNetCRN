{
 "cells": [
  {
   "cell_type": "code",
   "execution_count": 1,
   "metadata": {
    "collapsed": true
   },
   "outputs": [],
   "source": [
    "%matplotlib inline\n",
    "\n",
    "from matplotlib import pyplot as plt\n",
    "from crn_utils import SimulationOptions, run_simulation\n",
    "import numpy as np\n",
    "\n",
    "simulation_options = SimulationOptions()\n",
    "simulation_options.set_java_path(\"/home/harry/.jdks/openjdk-19.0.1/bin/java\")\n",
    "simulation_options.set_max_time(2000)"
   ]
  },
  {
   "cell_type": "code",
   "execution_count": null,
   "outputs": [],
   "source": [
    "simulation_options.set_repeats(100)\n",
    "simulation_options.set_volumes([int(volume) for volume in np.logspace(2.0, 4.0, 10)])\n",
    "simulation_options.net_from_file(\"./nets/tri-molecular.json\")\n",
    "simulation_options.use_temp_file(True)\n",
    "\n",
    "data_tri = run_simulation(simulation_options)\n",
    "places = data_tri.columns.difference([\"repeatNum\", \"time\", \"volume\"])\n",
    "data_tri = data_tri.sort_values([\"volume\", \"repeatNum\", \"time\"], ascending = [True, True, True])\n",
    "data_tri[\"isFinal\"] = data_tri.time.eq(data_tri.groupby(['volume','repeatNum']).time.transform('max'))\n"
   ],
   "metadata": {
    "collapsed": false,
    "pycharm": {
     "is_executing": true
    }
   }
  },
  {
   "cell_type": "code",
   "execution_count": null,
   "outputs": [],
   "source": [
    "t_end_av = []\n",
    "t_end_err = []\n",
    "n_vals = []\n",
    "\n",
    "for n in data_tri[\"volume\"].unique():\n",
    "    t_end = []\n",
    "    for repeat in data_tri[\"repeatNum\"].unique():\n",
    "        t_end.append(data_tri[data_tri[\"volume\"].eq(n) & data_tri[\"repeatNum\"].eq(repeat)][\"time\"].max())\n",
    "    t_end_av.append(np.mean(t_end))\n",
    "    t_end_err.append(np.std(t_end))\n",
    "    n_vals.append(n)\n",
    "\n",
    "plt.xscale(\"log\")\n",
    "plt.xlabel(\"$n$\")\n",
    "plt.ylabel(\"time (s)\")\n",
    "plt.scatter(n_vals, t_end_av)\n",
    "plt.errorbar(n_vals, t_end_av, t_end_err)\n",
    "plt.show()"
   ],
   "metadata": {
    "collapsed": false,
    "pycharm": {
     "is_executing": true
    }
   }
  },
  {
   "cell_type": "code",
   "execution_count": null,
   "outputs": [],
   "source": [
    "x_vol = []\n",
    "y_correctness = []\n",
    "for volume in data_tri[\"volume\"].unique():\n",
    "    x_vol.append(volume)\n",
    "    correct = data_tri[data_tri[\"volume\"].eq(volume) & data_tri[\"isFinal\"] & data_tri[\"X\"].eq(0)].size\n",
    "    incorrect = data_tri[data_tri[\"volume\"].eq(volume) & data_tri[\"isFinal\"] & data_tri[\"X\"].ne(0)].size\n",
    "    y_correctness.append(correct/(correct+incorrect))\n",
    "\n",
    "plt.plot(x_vol, y_correctness)\n",
    "plt.xscale('log')\n",
    "plt.show()"
   ],
   "metadata": {
    "collapsed": false,
    "pycharm": {
     "is_executing": true
    }
   }
  },
  {
   "cell_type": "code",
   "execution_count": null,
   "outputs": [],
   "source": [
    "for place in places:\n",
    "    for volume in data_tri[\"volume\"].unique():\n",
    "        plt.step(data_tri[data_tri[\"volume\"].eq(volume)][\"time\"], data_tri[data_tri[\"volume\"].eq(volume)][place], where='post', label=\"{}-{}\".format(place, volume))\n",
    "        plt.xlabel(\"time (s)\")\n",
    "        plt.ylabel(\"$n_{Ra}$\")\n",
    "        plt.title(place+\"-\"+str(volume))\n",
    "        plt.show()\n"
   ],
   "metadata": {
    "collapsed": false,
    "pycharm": {
     "is_executing": true
    }
   }
  },
  {
   "cell_type": "code",
   "execution_count": null,
   "outputs": [],
   "source": [
    "simulation_options.net_from_file(\"./nets/double-b.json\")\n",
    "simulation_options.set_repeats(1000)\n",
    "simulation_options.set_volumes([100, 500, 1000])\n",
    "simulation_options.use_temp_file(False)\n",
    "\n",
    "data_double_b = run_simulation(simulation_options)\n",
    "places = data_double_b.columns.difference([\"repeatNum\", \"time\", \"volume\"])\n",
    "DATA500 = data_double_b[data_double_b[\"volume\"] == 1000]\n"
   ],
   "metadata": {
    "collapsed": false,
    "pycharm": {
     "is_executing": true
    }
   }
  },
  {
   "cell_type": "code",
   "execution_count": null,
   "outputs": [],
   "source": [
    "\n",
    "fig, axs = plt.subplots(len(places), sharex=True)\n",
    "fig.suptitle(\"random sample\")\n",
    "\n",
    "row = 0\n",
    "for place in places:\n",
    "    for repeat in DATA500[\"repeatNum\"].unique():\n",
    "        axs[row].step(DATA500[DATA500[\"repeatNum\"] == repeat][\"time\"], DATA500[DATA500[\"repeatNum\"] == repeat][place], where='post', label=\"{}-{}\".format(place, repeat))\n",
    "        axs[row].set_xlabel(\"time (s)\")\n",
    "        axs[row].set_ylabel(\"$n_{Ra}$\")\n",
    "        axs[row].set_title(place)\n",
    "    row += 1\n"
   ],
   "metadata": {
    "collapsed": false,
    "pycharm": {
     "is_executing": true
    }
   }
  },
  {
   "cell_type": "code",
   "execution_count": null,
   "outputs": [],
   "source": [
    "t_end = [DATA500[DATA500[\"repeatNum\"].eq(r)][\"time\"].max() for r in DATA500[\"repeatNum\"].unique()]\n",
    "\n",
    "plt.title(\"Histogram of final states\")\n",
    "plt.xlabel(\"$t_{final}$\")\n",
    "plt.ylabel(\"frequency\")\n",
    "plt.hist(t_end, bins=101);"
   ],
   "metadata": {
    "collapsed": false,
    "pycharm": {
     "is_executing": true
    }
   }
  }
 ],
 "metadata": {
  "kernelspec": {
   "display_name": "Python 3",
   "language": "python",
   "name": "python3"
  },
  "language_info": {
   "codemirror_mode": {
    "name": "ipython",
    "version": 2
   },
   "file_extension": ".py",
   "mimetype": "text/x-python",
   "name": "python",
   "nbconvert_exporter": "python",
   "pygments_lexer": "ipython2",
   "version": "2.7.6"
  }
 },
 "nbformat": 4,
 "nbformat_minor": 0
}
